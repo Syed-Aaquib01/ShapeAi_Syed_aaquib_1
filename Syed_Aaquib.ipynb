{
  "nbformat": 4,
  "nbformat_minor": 0,
  "metadata": {
    "colab": {
      "name": "Syed Aaquib.ipynb",
      "provenance": [],
      "collapsed_sections": []
    },
    "kernelspec": {
      "name": "python3",
      "display_name": "Python 3"
    },
    "language_info": {
      "name": "python"
    }
  },
  "cells": [
    {
      "cell_type": "code",
      "metadata": {
        "id": "SfWogS8BTDPl"
      },
      "source": [
        "## IMPORTING DATASET\n",
        "from keras.datasets import mnist\n",
        "\n",
        "data= mnist.load_data()\n",
        "\n"
      ],
      "execution_count": 28,
      "outputs": []
    },
    {
      "cell_type": "markdown",
      "metadata": {
        "id": "nIt9wAUkbVP1"
      },
      "source": [
        "Define Traing And testing data\n"
      ]
    },
    {
      "cell_type": "code",
      "metadata": {
        "id": "LcfnYlg8eVwk"
      },
      "source": [
        "((x_train, y_train), (x_test, y_test)) = data\n"
      ],
      "execution_count": 29,
      "outputs": []
    },
    {
      "cell_type": "code",
      "metadata": {
        "id": "N6mEtOXhbeko"
      },
      "source": [
        "#Reshape the training data\n",
        "x_train= x_train.reshape((x_train.shape[0],28*28)).astype('float32')\n",
        "x_train= x_test.reshape((x_test.shape[0],28*28)).astype('float32')"
      ],
      "execution_count": 30,
      "outputs": []
    },
    {
      "cell_type": "code",
      "metadata": {
        "id": "tEYhCqjAcGvW"
      },
      "source": [
        "#Normalize values from 0-255 to 0-1\n",
        "x_train = x_train / 255\n",
        "x_test = x_test / 255"
      ],
      "execution_count": 32,
      "outputs": []
    },
    {
      "cell_type": "code",
      "metadata": {
        "id": "j2pRatLlckM9",
        "colab": {
          "base_uri": "https://localhost:8080/"
        },
        "outputId": "fbbd3f23-de12-4cab-dcc6-15460a348477"
      },
      "source": [
        "from keras.utils import np_utils\n",
        "\n",
        "print(y_test.shape)\n",
        "\n",
        "y_train = np_utils.to_categorical(y_train)\n",
        "y_test =np_utils.to_categorical(y_test)\n",
        "\n",
        "num_classes =y_test.shape[1]\n",
        "print(y_test.shape)\n"
      ],
      "execution_count": 42,
      "outputs": [
        {
          "output_type": "stream",
          "text": [
            "(10000,)\n",
            "(10000, 10)\n"
          ],
          "name": "stdout"
        }
      ]
    },
    {
      "cell_type": "code",
      "metadata": {
        "id": "FjqmQ9kxdkIF"
      },
      "source": [
        "from keras.models import Sequential\n",
        "from keras.layers import Dense\n"
      ],
      "execution_count": 43,
      "outputs": []
    },
    {
      "cell_type": "code",
      "metadata": {
        "id": "rr8_j5BceqZW"
      },
      "source": [
        "#Define Model\n",
        "model =Sequential()\n",
        "                                                \n",
        "model.add(Dense(32,input_dim=28*28, activation='relu'))\n",
        "model.add(Dense(64,activation='relu'))                                                                              \n",
        "model.add(Dense(10,activation='softmax'))"
      ],
      "execution_count": 58,
      "outputs": []
    },
    {
      "cell_type": "code",
      "metadata": {
        "id": "2jeQPjZ4fc4t"
      },
      "source": [
        "#compile model\n",
        "model.compile(loss='categorical_crossentropy',optimizer='adam',metrics=['accuracy'])"
      ],
      "execution_count": 59,
      "outputs": []
    },
    {
      "cell_type": "code",
      "metadata": {
        "id": "ZvW8LKJrf0SH",
        "colab": {
          "base_uri": "https://localhost:8080/"
        },
        "outputId": "6f740e1f-2c21-4551-9442-cf3bb0d89656"
      },
      "source": [
        "#print model summary\n",
        "model.summary()"
      ],
      "execution_count": 47,
      "outputs": [
        {
          "output_type": "stream",
          "text": [
            "Model: \"sequential\"\n",
            "_________________________________________________________________\n",
            "Layer (type)                 Output Shape              Param #   \n",
            "=================================================================\n",
            "dense (Dense)                (None, 32)                25120     \n",
            "_________________________________________________________________\n",
            "dense_1 (Dense)              (None, 64)                2112      \n",
            "_________________________________________________________________\n",
            "dense_2 (Dense)              (None, 10)                650       \n",
            "=================================================================\n",
            "Total params: 27,882\n",
            "Trainable params: 27,882\n",
            "Non-trainable params: 0\n",
            "_________________________________________________________________\n"
          ],
          "name": "stdout"
        }
      ]
    },
    {
      "cell_type": "code",
      "metadata": {
        "id": "Me7a_QP7gBD1"
      },
      "source": [
        "\n",
        "model.fit(x_train, y_train, epochs=10, batch_size=100)"
      ],
      "execution_count": null,
      "outputs": []
    },
    {
      "cell_type": "markdown",
      "metadata": {
        "id": "RiLlX1zGhbsw"
      },
      "source": [
        "check model Performance"
      ]
    },
    {
      "cell_type": "code",
      "metadata": {
        "id": "y03H5D-4hfn4"
      },
      "source": [
        "scores = model.evaluate(x_test,y_test)\n",
        "print(scores)  ##returnd loss and accuracy"
      ],
      "execution_count": null,
      "outputs": []
    }
  ]
}